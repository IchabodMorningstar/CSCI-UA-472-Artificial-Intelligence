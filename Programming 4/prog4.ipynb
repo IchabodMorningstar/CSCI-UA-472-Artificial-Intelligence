{
  "cells": [
    {
      "cell_type": "markdown",
      "metadata": {
        "id": "rUfJXYK6N3sc"
      },
      "source": [
        "## Introduction\n",
        "---\n",
        "\n",
        "In this programming assignment, we will train a neural net for caption generation.\n",
        "This neural network is made of two components: a feed forward convolutional net (CNN) --- to extract features from the images --- and a recurrent neural net (RNN) --- to output a variable length caption for each input image.\n",
        "We will use MNIST (handwritten digits) dataset for this purpose.\n",
        "\n",
        "## Instructions\n",
        "---\n",
        "\n",
        "You should perform this assignment using Google Colab.\n",
        "* Go through the notebook and ensure that you have answered all questions.\n",
        "* Finally, submit the ipynb `File > Download > Download .ipynb` on Brightspace\n",
        "\n",
        "---\n",
        "This code snippet imports necessary libraries for working with numerical and\n",
        "image data, defines the device for computation (either GPU or CPU), and sets up tools for building and training neural networks using PyTorch, a popular deep learning framework."
      ]
    },
    {
      "cell_type": "code",
      "execution_count": null,
      "metadata": {
        "id": "sPhXVnjeGT2q"
      },
      "outputs": [],
      "source": [
        "# Import libraries\n",
        "import numpy as np\n",
        "import matplotlib.pyplot as plt\n",
        "\n",
        "import torch\n",
        "from torch import nn, optim\n",
        "from torch.nn import functional; nn.f = functional\n",
        "from torch.nn.utils.rnn import pad_sequence\n",
        "from torch.optim import lr_scheduler\n",
        "from torchvision import datasets, transforms\n",
        "import string\n",
        "import torchvision\n",
        "from torchsummary import summary\n",
        "from torch.utils.data import Dataset, DataLoader\n",
        "\n",
        "# Use this constant to decide on which device to run the training - On Colab 'cuda:0' and 'cpu' refers to GPU and CPU respectively\n",
        "device = 'cuda:0' if torch.cuda.is_available() else 'cpu'"
      ]
    },
    {
      "cell_type": "markdown",
      "metadata": {
        "id": "oM7uKdhwRhhe"
      },
      "source": [
        "## Data loading\n",
        "---\n",
        "\n",
        "This code snippet sets up data pre-processing and creates data loaders for training and testing using the MNIST data set, which is commonly used for hand-written digit classification tasks in machine learning.\n",
        "\n",
        "`DataLoader`s abstract outs the loading of a data set and iterating batches of the loaded data set. You can read the documentation to learn more about `DataLoader`s and `Dataset`s [`DataLoader`s and `Dataset`s](https://pytorch.org/tutorials/beginner/basics/data_tutorial.html)"
      ]
    },
    {
      "cell_type": "markdown",
      "source": [],
      "metadata": {
        "id": "vNkb8MFLeVh1"
      }
    },
    {
      "cell_type": "code",
      "execution_count": null,
      "metadata": {
        "id": "TfTRYSNqJwq4",
        "colab": {
          "base_uri": "https://localhost:8080/"
        },
        "outputId": "5155a10d-7246-48d4-aaab-6d6d53c09822"
      },
      "outputs": [
        {
          "output_type": "stream",
          "name": "stdout",
          "text": [
            "Downloading http://yann.lecun.com/exdb/mnist/train-images-idx3-ubyte.gz\n",
            "Failed to download (trying next):\n",
            "HTTP Error 403: Forbidden\n",
            "\n",
            "Downloading https://ossci-datasets.s3.amazonaws.com/mnist/train-images-idx3-ubyte.gz\n",
            "Downloading https://ossci-datasets.s3.amazonaws.com/mnist/train-images-idx3-ubyte.gz to ./MNIST/raw/train-images-idx3-ubyte.gz\n"
          ]
        },
        {
          "output_type": "stream",
          "name": "stderr",
          "text": [
            "100%|██████████| 9912422/9912422 [00:00<00:00, 15971633.50it/s]\n"
          ]
        },
        {
          "output_type": "stream",
          "name": "stdout",
          "text": [
            "Extracting ./MNIST/raw/train-images-idx3-ubyte.gz to ./MNIST/raw\n",
            "\n",
            "Downloading http://yann.lecun.com/exdb/mnist/train-labels-idx1-ubyte.gz\n",
            "Failed to download (trying next):\n",
            "HTTP Error 403: Forbidden\n",
            "\n",
            "Downloading https://ossci-datasets.s3.amazonaws.com/mnist/train-labels-idx1-ubyte.gz\n",
            "Downloading https://ossci-datasets.s3.amazonaws.com/mnist/train-labels-idx1-ubyte.gz to ./MNIST/raw/train-labels-idx1-ubyte.gz\n"
          ]
        },
        {
          "output_type": "stream",
          "name": "stderr",
          "text": [
            "100%|██████████| 28881/28881 [00:00<00:00, 482968.30it/s]\n"
          ]
        },
        {
          "output_type": "stream",
          "name": "stdout",
          "text": [
            "Extracting ./MNIST/raw/train-labels-idx1-ubyte.gz to ./MNIST/raw\n",
            "\n",
            "Downloading http://yann.lecun.com/exdb/mnist/t10k-images-idx3-ubyte.gz\n",
            "Failed to download (trying next):\n",
            "HTTP Error 403: Forbidden\n",
            "\n",
            "Downloading https://ossci-datasets.s3.amazonaws.com/mnist/t10k-images-idx3-ubyte.gz\n",
            "Downloading https://ossci-datasets.s3.amazonaws.com/mnist/t10k-images-idx3-ubyte.gz to ./MNIST/raw/t10k-images-idx3-ubyte.gz\n"
          ]
        },
        {
          "output_type": "stream",
          "name": "stderr",
          "text": [
            "100%|██████████| 1648877/1648877 [00:00<00:00, 4426289.47it/s]\n"
          ]
        },
        {
          "output_type": "stream",
          "name": "stdout",
          "text": [
            "Extracting ./MNIST/raw/t10k-images-idx3-ubyte.gz to ./MNIST/raw\n",
            "\n",
            "Downloading http://yann.lecun.com/exdb/mnist/t10k-labels-idx1-ubyte.gz\n",
            "Failed to download (trying next):\n",
            "HTTP Error 403: Forbidden\n",
            "\n",
            "Downloading https://ossci-datasets.s3.amazonaws.com/mnist/t10k-labels-idx1-ubyte.gz\n",
            "Downloading https://ossci-datasets.s3.amazonaws.com/mnist/t10k-labels-idx1-ubyte.gz to ./MNIST/raw/t10k-labels-idx1-ubyte.gz\n"
          ]
        },
        {
          "output_type": "stream",
          "name": "stderr",
          "text": [
            "100%|██████████| 4542/4542 [00:00<00:00, 3822337.23it/s]"
          ]
        },
        {
          "output_type": "stream",
          "name": "stdout",
          "text": [
            "Extracting ./MNIST/raw/t10k-labels-idx1-ubyte.gz to ./MNIST/raw\n",
            "\n"
          ]
        },
        {
          "output_type": "stream",
          "name": "stderr",
          "text": [
            "\n"
          ]
        }
      ],
      "source": [
        "# Batch options\n",
        "batch_size = 128  # input batch size for training\n",
        "test_batch = 1    # test batch size\n",
        "\n",
        "# Normalizes the input images for a better training\n",
        "data_transform = transforms.Compose([\n",
        "        transforms.ToTensor(),\n",
        "        transforms.Normalize((0.1307,), (0.3081,))\n",
        "    ])\n",
        "\n",
        "# Get train and test loaders to load MNIST data\n",
        "trainset = datasets.MNIST(root='.', train=True, download=True, transform=data_transform)\n",
        "testset = datasets.MNIST(root='.', train=False, download=True, transform=data_transform)\n",
        "\n",
        "# Create the dataloaders on which we can iterate to get the data in batch_size chunks\n",
        "train_loader = torch.utils.data.DataLoader(trainset, batch_size=batch_size, shuffle=True, num_workers=0)\n",
        "test_loader  = torch.utils.data.DataLoader(testset, batch_size=test_batch, shuffle=False, num_workers=0)"
      ]
    },
    {
      "cell_type": "markdown",
      "metadata": {
        "id": "QfyOh8yrQpXr"
      },
      "source": [
        "# 1 Preprocessing\n",
        "## 1.1 Auxiliary data creation\n",
        "---\n",
        "First, let's setup `labelDict` and `vocab` for our problem statement. For this,\n",
        "1. MNIST data set, consists of images and their corresponding labels of the form `{0, 1, 2, …}`.\n",
        "First let's build a dictionary mapping labels to `<b>` $\\phi$ `<e>`, where $\\phi \\in \\lbrace \\texttt{zero}, \\texttt{one}, \\texttt{two}, \\ldots , \\texttt{nine}\\rbrace$.\n",
        "\n",
        "2. Build a lookup table for each unique tokens in the strings. Your `vocab` list, before sorting, should look like: `['<b>', 'z', 'e', 'r', 'o', '<e>', …]`.\n",
        "\n",
        "Next, complete the following two functions:\n",
        "1.   `label_to_onehot_sequence()` to convert a label to its one-hot sequence, representing the sequence of tokens. You may want to look at [`functional.one_hot` documentation](https://pytorch.org/docs/stable/generated/torch.nn.functional.one_hot.html) for reference.\n",
        "2. and `token_idx_to_token()` to convert the list of token indices to their corresponding string of characters.\n",
        "\n",
        "The functions below are heavily annotated so that you understand what each function is doing and how can you use them for your use case.\n",
        "The `assert` is a simple way for testing the correctness of your implementation."
      ]
    },
    {
      "cell_type": "code",
      "execution_count": null,
      "metadata": {
        "id": "QPOJLA7ommbp",
        "colab": {
          "base_uri": "https://localhost:8080/"
        },
        "outputId": "468025ed-188e-46cc-896f-9b0cb5d745af"
      },
      "outputs": [
        {
          "output_type": "stream",
          "name": "stdout",
          "text": [
            "['<b>', '<e>', 'e', 'f', 'g', 'h', 'i', 'n', 'o', 'r', 's', 't', 'u', 'v', 'w', 'x', 'z']\n"
          ]
        }
      ],
      "source": [
        "labelDict = None\n",
        "vocab = None\n",
        "# Create dictionary and Lookup Table ###########################################\n",
        "# TODO📝: labelDict = dictionary of sequences of tokens such that it converts\n",
        "#       label to digit into strings.\n",
        "labelDict = {0:\"<b>zero<e>\", 1:\"<b>one<e>\", 2:\"<b>two<e>\", 3:\"<b>three<e>\", 4:\"<b>four<e>\", 5:\"<b>five<e>\", 6:\"<b>six<e>\", 7:\"<b>seven<e>\", 8:\"<b>eight<e>\", 9:\"<b>nine<e>\"}\n",
        "# TODO📝: vocab = list of all the unique tokens in labelDict.\n",
        "vocab = [\"<b>\", \"<e>\"]\n",
        "for word in labelDict.values():\n",
        "  for char in word[3:-3]:\n",
        "    if char not in vocab:\n",
        "      vocab.append(char)\n",
        "################################################################################\n",
        "vocab.sort()\n",
        "vocab_size = len(vocab)\n",
        "print(vocab)\n",
        "\n",
        "# Testing that your lookup tables are setup correctly\n",
        "assert(vocab_size == 17)\n",
        "assert(len(labelDict) == 10)"
      ]
    },
    {
      "cell_type": "code",
      "execution_count": null,
      "metadata": {
        "id": "hcsxQoFnoMi0"
      },
      "outputs": [],
      "source": [
        "################################################################################\n",
        "###################### DO NOT MODIFY THIS CELL #################################\n",
        "################################################################################\n",
        "# Some utility functions to check if your code is working as intended\n",
        "def assert_encoding(actual, expected):\n",
        "  assert(type(actual) == type(torch.tensor(0))) # Your output is not of type tensor, please ensure that your function should output tensors\n",
        "  if(not((expected.numpy() == actual.numpy()).all())):\n",
        "    print('expected: ', expected)\n",
        "    print('actual: ', actual)\n",
        "    assert((expected.numpy() == actual.numpy()).all())\n",
        "\n",
        "# Utility function to assert shape of a tensor, for debugging purpose\n",
        "def shapeChecker(x, y):\n",
        "  assert(x.shape == y.shape)\n",
        "\n",
        "# Get the index of a token in the vocab\n",
        "def get_idx(letter):\n",
        "    return [i for i, x in enumerate(vocab) if (letter == x)][0]\n",
        "################################################################################"
      ]
    },
    {
      "cell_type": "code",
      "execution_count": null,
      "metadata": {
        "id": "ODtMG2xbjydT"
      },
      "outputs": [],
      "source": [
        "# Function to convert a list of labels to a list of one-hot matrix\n",
        "def label_to_onehot_sequence(label):\n",
        "    # Map label -> one-hot sequence ############################################\n",
        "    # TODO📝: complete the function converting a single label to its corresponsing one-hot\n",
        "    # in: 9 out: one-hot('<b>nine<e>')\n",
        "    ############################################################################\n",
        "    textLabel = labelDict[int(label)]\n",
        "    output = []\n",
        "    i = 0\n",
        "    while i < len(textLabel):\n",
        "      if textLabel[i] == \"<\":\n",
        "        char = textLabel[i:i+3]\n",
        "        i += 2\n",
        "      else:\n",
        "        char = textLabel[i]\n",
        "      lst = [0]*len(vocab)\n",
        "      lst[vocab.index(char)] = 1\n",
        "      output.append(lst)\n",
        "      i += 1\n",
        "\n",
        "    return torch.tensor(output, dtype=torch.float32)\n",
        "\n",
        "assert_encoding(label_to_onehot_sequence(torch.tensor(3)),\n",
        "  torch.tensor([[\n",
        "    [1, 0, 0, 0, 0, 0, 0, 0, 0, 0, 0, 0, 0, 0, 0, 0, 0],   # <b>\n",
        "    [0, 0, 0, 0, 0, 0, 0, 0, 0, 0, 0, 1, 0, 0, 0, 0, 0],   #  t\n",
        "    [0, 0, 0, 0, 0, 1, 0, 0, 0, 0, 0, 0, 0, 0, 0, 0, 0],   #  h\n",
        "    [0, 0, 0, 0, 0, 0, 0, 0, 0, 1, 0, 0, 0, 0, 0, 0, 0],   #  r\n",
        "    [0, 0, 1, 0, 0, 0, 0, 0, 0, 0, 0, 0, 0, 0, 0, 0, 0],   #  e\n",
        "    [0, 0, 1, 0, 0, 0, 0, 0, 0, 0, 0, 0, 0, 0, 0, 0, 0],   #  e\n",
        "    [0, 1, 0, 0, 0, 0, 0, 0, 0, 0, 0, 0, 0, 0, 0, 0, 0]]], # <e>\n",
        "    dtype=torch.float32))"
      ]
    },
    {
      "cell_type": "code",
      "execution_count": null,
      "metadata": {
        "id": "_azynUKYsnPH"
      },
      "outputs": [],
      "source": [
        "################################################################################\n",
        "###################### DO NOT MODIFY THIS CELL #################################\n",
        "################################################################################\n",
        "def batch_of_labels_to_onehot_matrix(labels):\n",
        "    # Convert labels to one-hot tensors\n",
        "    onehot_inputs = [label_to_onehot_sequence(label) for label in labels]\n",
        "\n",
        "    # Pad the length of string since, matrix operation requires fixed-size rows\n",
        "    max_len = max(len(onehot) for onehot in onehot_inputs)\n",
        "    padded_onehot = pad_sequence(onehot_inputs, batch_first=True, padding_value= 0)\n",
        "    return max_len, padded_onehot\n",
        "\n",
        "# Convert label to label onehot - used in the next to feed argmax input to RNN\n",
        "def label_to_onehot(target):\n",
        "    return nn.f.one_hot(target, num_classes=10).to(torch.float32)\n",
        "################################################################################"
      ]
    },
    {
      "cell_type": "code",
      "execution_count": null,
      "metadata": {
        "id": "kKUMCyjYWGin"
      },
      "outputs": [],
      "source": [
        "# To convert token indices predicted by our model back to characters and form the word\n",
        "def token_idx_to_token(input):\n",
        "\n",
        "    # Convert list of token idx to '<b>φ<e>' ##################################\n",
        "    # TODO📝: complete the function to convert a list of token indices to the format '<b>φ<e>'\n",
        "    # For each index in the input list, get the corresponding token from vocab, to build the output word\n",
        "    # example input -> [ 0, 3, 6, 13, 2,  1] -> '<b>five<e>'\n",
        "    #                    ⬇ ⬇ ⬇   ⬇ ⬇  ⬇\n",
        "    #                   <b> f  i   v  e  <e>\n",
        "    output = []\n",
        "    for ind in input:\n",
        "      output.append(vocab[ind])\n",
        "    return \"\".join(output)\n",
        "\n",
        "assert(token_idx_to_token([0, 3,  6, 13,  2,  1]) == '<b>five<e>')"
      ]
    },
    {
      "cell_type": "markdown",
      "metadata": {
        "id": "pv1RgBq6g11d"
      },
      "source": [
        "## 1.2 Data Exploration\n",
        "---\n",
        "1. Write code to fetch a batch from the `train_loader` and display the first 10 images along with their respective sequence of tokens which will be of the form `<b>` $\\phi$ `<e>`, where $\\phi \\in \\lbrace \\texttt{zero}, \\texttt{one}, \\texttt{two}, \\ldots, \\texttt{nine}\\rbrace$.\n",
        "\n",
        "Use `matplotlib` and Jupyter notebook's visualisation capabilities. See this [PyTorch tutorial page](https://pytorch.org/tutorials/beginner/blitz/cifar10_tutorial.html) for hints on how display images."
      ]
    },
    {
      "cell_type": "code",
      "execution_count": null,
      "metadata": {
        "id": "-P9WZJC_gyoc",
        "colab": {
          "base_uri": "https://localhost:8080/",
          "height": 212
        },
        "outputId": "3c4af088-187b-4688-a130-7fd2b81d5585"
      },
      "outputs": [
        {
          "output_type": "display_data",
          "data": {
            "text/plain": [
              "<Figure size 2000x200 with 10 Axes>"
            ],
            "image/png": "[encoded data removed]"
          },
          "metadata": {}
        }
      ],
      "source": [
        "# Visualise the dataset images #################################################\n",
        "# TODO📝: Fetch a batch from the train_loader and display the first 10 images along\n",
        "#       with the label and the respective token sequence of the form <b>φ<e>\n",
        "################################################################################\n",
        "def visualise_images(train_loader, num_images=10):\n",
        "  # Your code goes here\n",
        "  # Fetch a batch from the train_loader\n",
        "  for images, labels in train_loader:\n",
        "    break\n",
        "\n",
        "  # Display the first `num_images` images\n",
        "  fig, axes = plt.subplots(1, num_images, figsize=(20, 2))\n",
        "  for i in range(num_images):\n",
        "    axes[i].imshow(images[i].permute(1, 2, 0))\n",
        "    label = labelDict[int(labels[i])]\n",
        "    axes[i].set_title(f\"{label}\")\n",
        "\n",
        "  plt.show()\n",
        "\n",
        "# Call the function to visualize the images along with the label\n",
        "visualise_images(train_loader)  # Assuming `train_loader` is your DataLoader object"
      ]
    },
    {
      "cell_type": "markdown",
      "metadata": {
        "id": "HTIS2SX4hzNu"
      },
      "source": [
        "## Training and Validation Functions\n",
        "---\n",
        "⛔️⛔️⛔️ **Skip this cell for now, and you will have to revisit this cell 3 times, once you have defined your models in Section 2.1, 2.2, and 2.3.**\n",
        "\n",
        "Below are the `train()` and `evaluate()` procedures that you will call using your model to train your model and get accuracy on the validation set respectively. A few lines are omitted in the functions. Complete the following parts:\n",
        "\n",
        "1. Select the appropriate loss function for the tasks.\n",
        "2. Perform the forward pass of the model.\n",
        "3. Compute the loss.\n",
        "4. Zero the gradients of the parameters for no gradient aggregation.\n",
        "5. Compute gradients.\n",
        "6. Optimization step.\n",
        "\n",
        "Please go through both functions thoroughly to understand how accuracy is calculated and how input augmentation is performed before sending it to our models. This way, for other similar tasks, you can emulate similar functions in the future.\n",
        "\n",
        "**`train()`** takes input parameters - **`num_epoch`, `optimiser`, `model`, `dataloader`, and `mode`**.\n",
        "\n",
        "**`mode`** can have the following enums:\n",
        "\n",
        "- `'ENCODER'` for training/evaluating CNN classifier - Section 2.1\n",
        "- `'DECODER'` for training/evaluating the RNN model - Section 2.2\n",
        "- `'MODULAR'` for evaluating the modular approach - Section 2.3\n",
        "- `'E2E'` for training/evaluating the Sections 2.4 and 2.5\n",
        "\n",
        "`evaluate()` takes input parameters - `model`, `dataloader`, and `mode`."
      ]
    },
    {
      "cell_type": "markdown",
      "source": [
        "## util"
      ],
      "metadata": {
        "id": "YEPCCmzc6RzH"
      }
    },
    {
      "cell_type": "code",
      "execution_count": null,
      "metadata": {
        "id": "QnXUEOzhx-0x"
      },
      "outputs": [],
      "source": [
        "################################################################################\n",
        "###################### DO NOT MODIFY THIS CELL #################################\n",
        "################################################################################\n",
        "# Utility function to print statistics for debugging as well as modifies target and output for accuracy calculation\n",
        "def trainUtility(batch_idx, epoch, output, target, padded_onehot):\n",
        "    # Printing statistics for easy debugging\n",
        "    if batch_idx == 1 or (epoch != None and epoch%500==0):\n",
        "        _, pred_idx = torch.max(output, dim=-1)\n",
        "        _, true_idx = torch.max(padded_onehot[:, 1:, :], dim=-1)\n",
        "        print('acc: ', torch.sum(pred_idx == true_idx)/(pred_idx.shape[0]*pred_idx.shape[1]))\n",
        "        print(pred_idx[0, :], true_idx[0, :])\n",
        "\n",
        "    # Converting output of size (batch_size x max_word_length-1 x vocab_size) -> ((batch_size*(max_word_length-1)) x vocab_size)\n",
        "    output =  output.view(-1, vocab_size)\n",
        "    # Converting the true labels to ((batch_size*(max_word_length-1)) x vocab_size)\n",
        "    # omitting the first character since, this is not getting predicted by the model\n",
        "    target = padded_onehot[:, 1:, :].reshape(-1, vocab_size)\n",
        "\n",
        "    return output, target\n",
        "################################################################################"
      ]
    },
    {
      "cell_type": "markdown",
      "source": [
        "## dataset"
      ],
      "metadata": {
        "id": "xtOFGlqG6XUr"
      }
    },
    {
      "cell_type": "code",
      "execution_count": null,
      "metadata": {
        "id": "memn3pIvIdaN"
      },
      "outputs": [],
      "source": [
        "################################################################################\n",
        "###################### DO NOT MODIFY THIS CELL #################################\n",
        "################################################################################\n",
        "# We will create a custom dataset for training our RNN in part 2.2, data will be a tuple of\n",
        "# one-hot matrix for each label (batch_size x 10) and corresponding one-hot matrix of words (batch_size x max_word_length x vocab_size)\n",
        "class RnnTrainingDataset(Dataset):\n",
        "    \"\"\"Dataset to get a tuple of one-hot matrix for each label (batch_size x 10)\n",
        "       and corresponding one-hot matrix of words (batch_size x max_word_length - 1 x vocab_size)\"\"\"\n",
        "\n",
        "    def __init__(self):\n",
        "        \"\"\"\n",
        "        Arguments:\n",
        "        \"\"\"\n",
        "        self.X = label_to_onehot(torch.tensor([x for x in range(10)]))\n",
        "        _, self.Y = batch_of_labels_to_onehot_matrix(torch.tensor([x for x in range(10)]))\n",
        "\n",
        "\n",
        "    def __len__(self):\n",
        "        return 10 # There are only 10 words\n",
        "\n",
        "    def __getitem__(self, idx):\n",
        "        return (self.X[idx], self.Y[idx])\n",
        "\n",
        "rnn_dataset = RnnTrainingDataset()\n",
        "rnn_dataloader = torch.utils.data.DataLoader(rnn_dataset, batch_size=10, shuffle=True)\n",
        "rnn_testloader = torch.utils.data.DataLoader(rnn_dataset, batch_size=1, shuffle=True)\n",
        "################################################################################"
      ]
    },
    {
      "cell_type": "markdown",
      "source": [
        "## train"
      ],
      "metadata": {
        "id": "JIu4rzbP6cJq"
      }
    },
    {
      "cell_type": "code",
      "execution_count": null,
      "metadata": {
        "id": "qGWgcXa2hyhK"
      },
      "outputs": [],
      "source": [
        "# Function which does the training for number of epochs and model and type of model passed\n",
        "def train(num_epochs, optimiser, model, dataloader=train_loader, mode='ENCODER'):\n",
        "    model.to(device)\n",
        "    model.train()\n",
        "    criterion = nn.CrossEntropyLoss()\n",
        "    # Select Loss ##############################################################\n",
        "    # TODO📝: criterion = loss function to classify into K classes\n",
        "    ############################################################################\n",
        "    lr_list = []\n",
        "    flg = True\n",
        "    for epoch in range(num_epochs):\n",
        "      for batch_idx, (data, target) in enumerate(dataloader):\n",
        "          data = data.to(device)\n",
        "          target = target.to(device)\n",
        "\n",
        "          if(mode == 'E2E'): # For 2.4 and 2.5 - CNN-RNN models\n",
        "            # Convert labels to one-hot tensors\n",
        "            _, padded_onehot = batch_of_labels_to_onehot_matrix(target) # Output size (batch_size x max_word_length x vocab_size)\n",
        "            padded_onehot = padded_onehot.to(device)\n",
        "            # print(padded_onehot.shape, target.shape)\n",
        "\n",
        "            output = model(data, padded_onehot[:,:-1,:])\n",
        "            # Forward pass #####################################################\n",
        "            # TODO📝: output = forward pass of your model\n",
        "            ####################################################################\n",
        "            # print(output.shape, padded_onehot.shape)\n",
        "            shapeChecker(output, padded_onehot[:, 1:, :])\n",
        "\n",
        "            # Call trainUtility\n",
        "            output, target = trainUtility(batch_idx, None, output, target, padded_onehot)\n",
        "\n",
        "\n",
        "          elif(mode == 'ENCODER'): # For 2.1 - CNN classifier\n",
        "            output = model(data)\n",
        "            # Forward pass #####################################################\n",
        "            # TODO📝: output = forward pass of your model\n",
        "            ####################################################################\n",
        "\n",
        "          elif(mode == 'DECODER'): # For 2.2 - Overfitting RNN\n",
        "            # Convert labels to one-hot tensors\n",
        "            padded_onehot = target\n",
        "\n",
        "            # print(data, '\\n', target)\n",
        "            output = model(data, target[:, :-1, :])\n",
        "            # Forward pass #####################################################\n",
        "            # TODO📝: output = forward pass of your model, you will not pass the\n",
        "            #                  end token <e> to your model\n",
        "            ####################################################################\n",
        "            # print(output.shape, target[:, 1:, :].shape)\n",
        "            shapeChecker(output, target[:, 1:, :])\n",
        "\n",
        "            # Call trainUtility\n",
        "            output, target = trainUtility(batch_idx, epoch, output, target, padded_onehot)\n",
        "\n",
        "\n",
        "\n",
        "          # Loss computation ###################################################\n",
        "          # TODO📝: loss = evaluate the criterion on the model output\n",
        "          loss = criterion(output, target)\n",
        "          ######################################################################\n",
        "          # Zero grad ##########################################################\n",
        "          # TODO📝: zero grad the parameters\n",
        "          optimiser.zero_grad()\n",
        "          ######################################################################\n",
        "          # Compute gradients ##################################################\n",
        "          # TODO📝: back-propogate loss to calculate the grad weights\n",
        "          loss.backward()\n",
        "          ######################################################################\n",
        "          # Optimisation step ##################################################\n",
        "          # TODO📝: perform a single optimization step (weight update)\n",
        "          optimiser.step()\n",
        "          ######################################################################\n",
        "\n",
        "          if (batch_idx+1) % 100 == 0 or (mode == 'DECODER' and epoch%500 == 0):\n",
        "            print ('Epoch [{}/{}], Step [{}/{}], Loss: {:.4f}'\n",
        "                   .format(epoch+1, num_epochs, batch_idx+1, len(dataloader), loss.item()))"
      ]
    },
    {
      "cell_type": "markdown",
      "source": [
        "## evaluate"
      ],
      "metadata": {
        "id": "ZOW6IMfB6e8u"
      }
    },
    {
      "cell_type": "code",
      "execution_count": null,
      "metadata": {
        "id": "wFP1MB3Lhn2T"
      },
      "outputs": [],
      "source": [
        "################################################################################\n",
        "###################### DO NOT MODIFY THIS CELL #################################\n",
        "################################################################################\n",
        "def evaluate(model, dataloader=test_loader, mode='ENCODER'):\n",
        "    # Never forget to change model to eval mode using eval(), this freezes the model weights for updates\n",
        "    model.to(device)\n",
        "    model.eval()\n",
        "    test_loss = 0\n",
        "    correct = 0\n",
        "    for data, target in dataloader:\n",
        "        data = data.to(device)\n",
        "        target = target.to(device)\n",
        "        if(mode == 'ENCODER'):\n",
        "          # Predicted output\n",
        "          output = model(data)\n",
        "\n",
        "          # Calculate correct prediction count\n",
        "          pred = output.data.max(1, keepdim=True)[1] # get the index of the max log-probability\n",
        "          correct += pred.eq(target.data.view_as(pred)).cpu().sum()\n",
        "        elif(mode == 'DECODER'):\n",
        "          # Predicted output\n",
        "          output = torch.tensor(model.sample(data), device=device)\n",
        "\n",
        "          # True output\n",
        "          _, true = torch.max(target, dim=-1)\n",
        "          # Remove padding\n",
        "          true = torch.tensor(np.concatenate(([0],np.delete(true.cpu().numpy(), np.argwhere(true.cpu().numpy()==0)))), device=device)\n",
        "\n",
        "          # Calculate correct prediction count\n",
        "          print(output, true)\n",
        "          correct += torch.sum(output == true)/output.shape[0]\n",
        "        elif(mode == 'MODULAR'):\n",
        "          # Predicted output\n",
        "          # print(\"0\",data.shape)\n",
        "          output = model.sample(data)\n",
        "          # print(output)\n",
        "\n",
        "          # True output\n",
        "          true = [labelDict[label.item()] for label in target]\n",
        "          true = torch.tensor([0] + [get_idx(c) for c in true[0][3:-3]] + [1])\n",
        "          # print(true)\n",
        "          true = torch.full(output.shape, 20) if output.shape[0] != true.shape[0] else true\n",
        "\n",
        "          # Calculate correct prediction count\n",
        "          correct += torch.sum(output == true)/output.shape[0]\n",
        "        elif(mode == 'E2E'):\n",
        "          # Predicted output\n",
        "          # print(\"0\",data.shape)\n",
        "          output = torch.tensor(model.sample(data))\n",
        "\n",
        "          # True output\n",
        "          true = [labelDict[label.item()] for label in target]\n",
        "          true = torch.tensor([0] + [get_idx(c) for c in true[0][3:-3]] + [1])\n",
        "          true = torch.full(output.shape, 20) if output.shape[0] != true.shape[0] else true\n",
        "\n",
        "          # Calculate correct prediction count\n",
        "          correct += torch.sum(output == true)/output.shape[0]\n",
        "\n",
        "    test_loss /= len(dataloader.dataset)\n",
        "    print('\\nTest set: Accuracy: {:.0f}/{} ({:.0f}%)\\n'.format(\n",
        "        correct, len(dataloader.dataset),\n",
        "        100 * correct / len(dataloader.dataset)))\n",
        "\n",
        "    return 100 * correct / len(dataloader.dataset)\n",
        "################################################################################"
      ]
    },
    {
      "cell_type": "markdown",
      "metadata": {
        "id": "2c3ICvb23OMI"
      },
      "source": [
        "# 2 Model creation and training\n",
        "\n"
      ]
    },
    {
      "cell_type": "markdown",
      "source": [
        "## 2.1 Convolutional net architecture\n",
        "---\n",
        "Follow the following steps to train a CNN classifier and calculate accuracy for your model on the test set:\n",
        "1. Create a model exactly like the architecture given in the prog4 writeup.\n",
        "2. Create a SGD optimiser. You can read about optimisers [here](https://pytorch.org/docs/stable/optim.html).\n",
        "3. Go to previous section and fill out the `train()` procedure for `mode='ENCODER'`.\n",
        "\n",
        "This part expects you to achieve an accuracy of `95%+` on the validation set."
      ],
      "metadata": {
        "id": "t40rLIbQ6Eji"
      }
    },
    {
      "cell_type": "code",
      "execution_count": null,
      "metadata": {
        "id": "QHT3Zskr3Nr-",
        "colab": {
          "base_uri": "https://localhost:8080/"
        },
        "outputId": "3b231c94-1f2d-4639-d960-6e054123c368"
      },
      "outputs": [
        {
          "output_type": "stream",
          "name": "stdout",
          "text": [
            "Epoch [1/10], Step [100/469], Loss: 0.4203\n",
            "Epoch [1/10], Step [200/469], Loss: 0.2440\n",
            "Epoch [1/10], Step [300/469], Loss: 0.2167\n",
            "Epoch [1/10], Step [400/469], Loss: 0.1280\n",
            "Epoch [2/10], Step [100/469], Loss: 0.1019\n",
            "Epoch [2/10], Step [200/469], Loss: 0.0836\n",
            "Epoch [2/10], Step [300/469], Loss: 0.0812\n",
            "Epoch [2/10], Step [400/469], Loss: 0.0502\n",
            "Epoch [3/10], Step [100/469], Loss: 0.0409\n",
            "Epoch [3/10], Step [200/469], Loss: 0.0142\n",
            "Epoch [3/10], Step [300/469], Loss: 0.1520\n",
            "Epoch [3/10], Step [400/469], Loss: 0.0786\n",
            "Epoch [4/10], Step [100/469], Loss: 0.0190\n",
            "Epoch [4/10], Step [200/469], Loss: 0.0449\n",
            "Epoch [4/10], Step [300/469], Loss: 0.1364\n",
            "Epoch [4/10], Step [400/469], Loss: 0.0384\n",
            "Epoch [5/10], Step [100/469], Loss: 0.0271\n",
            "Epoch [5/10], Step [200/469], Loss: 0.0269\n",
            "Epoch [5/10], Step [300/469], Loss: 0.0479\n",
            "Epoch [5/10], Step [400/469], Loss: 0.0658\n",
            "Epoch [6/10], Step [100/469], Loss: 0.0061\n",
            "Epoch [6/10], Step [200/469], Loss: 0.0224\n",
            "Epoch [6/10], Step [300/469], Loss: 0.0146\n",
            "Epoch [6/10], Step [400/469], Loss: 0.0498\n",
            "Epoch [7/10], Step [100/469], Loss: 0.0294\n",
            "Epoch [7/10], Step [200/469], Loss: 0.0471\n",
            "Epoch [7/10], Step [300/469], Loss: 0.0725\n",
            "Epoch [7/10], Step [400/469], Loss: 0.0585\n",
            "Epoch [8/10], Step [100/469], Loss: 0.0584\n",
            "Epoch [8/10], Step [200/469], Loss: 0.0118\n",
            "Epoch [8/10], Step [300/469], Loss: 0.0110\n",
            "Epoch [8/10], Step [400/469], Loss: 0.0299\n",
            "Epoch [9/10], Step [100/469], Loss: 0.0243\n",
            "Epoch [9/10], Step [200/469], Loss: 0.0573\n",
            "Epoch [9/10], Step [300/469], Loss: 0.0322\n",
            "Epoch [9/10], Step [400/469], Loss: 0.0709\n",
            "Epoch [10/10], Step [100/469], Loss: 0.1052\n",
            "Epoch [10/10], Step [200/469], Loss: 0.0159\n",
            "Epoch [10/10], Step [300/469], Loss: 0.0122\n",
            "Epoch [10/10], Step [400/469], Loss: 0.0430\n",
            "\n",
            "Test set: Accuracy: 9843/10000 (98%)\n",
            "\n"
          ]
        }
      ],
      "source": [
        "# options\n",
        "epochs = 10         # number of epochs to train\n",
        "lr = 0.01           # learning rate\n",
        "\n",
        "\n",
        "# Convolutional net architecture ###############################################\n",
        "# TODO📝: cnnEncoder = cnn model - input: image(batch_size x 1 x img_sz x img_sz)\n",
        "#                                  output: (batch_size, 84)\n",
        "cnnEncoder = nn.Sequential(\n",
        "    nn.Conv2d(in_channels=1, out_channels=6, kernel_size=3, stride=1),\n",
        "    nn.MaxPool2d(kernel_size=2, stride=2),\n",
        "    nn.Conv2d(in_channels=6, out_channels=16, kernel_size=3, stride=1),\n",
        "    nn.MaxPool2d(kernel_size=2, stride=2),\n",
        "    nn.Conv2d(in_channels=16, out_channels=120, kernel_size=3, stride=1),\n",
        "    nn.Flatten(),\n",
        "    nn.Linear(in_features=120 * 3 * 3, out_features=84)\n",
        ")\n",
        "# TODO📝: linearClassifier = linear classifier - input: (batch_size, 84)\n",
        "#                                                output: (batch_size, 10)\n",
        "linearClassifier = nn.Linear(in_features=84, out_features=10)\n",
        "################################################################################\n",
        "\n",
        "cnnClassifier = nn.Sequential(cnnEncoder, linearClassifier).to(device)\n",
        "enc_optimiser = optim.SGD(cnnClassifier.parameters(), lr=lr, momentum=0.9)\n",
        "# Creating Optimiser ###########################################################\n",
        "# TODO📝: enc_optimiser = create a SGD optimiser for the cnnClassifier\n",
        "# TODO📝: Fill out the train() procedure for mode='ENCODER' in the previous section\n",
        "################################################################################\n",
        "\n",
        "train(epochs, enc_optimiser, cnnClassifier, mode='ENCODER')\n",
        "acc = evaluate(cnnClassifier, test_loader, mode='ENCODER')\n",
        "\n",
        "assert(acc > 95)"
      ]
    },
    {
      "cell_type": "markdown",
      "metadata": {
        "id": "ftoGfiIuFMh_"
      },
      "source": [
        "## 2.2 Recurrent net overfitting\n",
        "---\n",
        "We can define models in two ways, either using `nn.Sequential()` to create a network where PyTorch takes care of `forward()`, or we can create a `class` inhereted from `nn.Module` and define our custom `forward()` and other utility functions. For this section, we will use the latter approach.\n",
        "Follow the next steps to train your RNN model and calculate the accuracy:\n",
        "1. Create a model by completing the class methods where asked.\n",
        "2. Create an optimiser.\n",
        "3. Go to previous section and fill out the `train()` procedure for `mode='DECODER'`.\n",
        "\n",
        "This part expects you to achieve an accuracy of `10/10` on the training set, that is we completely memorise the training data points.\n",
        "\n",
        "\n",
        "You can use the following documentations for reference on [`nn.Module`](https://pytorch.org/docs/stable/generated/torch.nn.Module.html) and [`nn.LSTM`](https://pytorch.org/docs/stable/generated/torch.nn.LSTM.html).\n"
      ]
    },
    {
      "cell_type": "code",
      "execution_count": null,
      "metadata": {
        "id": "5Y6hyYp7FG7B"
      },
      "outputs": [],
      "source": [
        "# 1. RNN model for learning sequence of letters\n",
        "class DecoderRNN(nn.Module):\n",
        "    def __init__(self, input_size, hidden_size, vocab_size, num_layers):\n",
        "        super().__init__()\n",
        "        # Create LSTM and Linear objects #######################################\n",
        "        # TODO📝: self.lstm = LSTM object using input_size, hidden_size and num_layers,\n",
        "        #                     set the batch_first option to True\n",
        "        self.lstm = nn.LSTM(input_size, hidden_size, num_layers=num_layers, batch_first=True)\n",
        "        # TODO📝: self.fc = Linear layer to convert to get final output with size\n",
        "        #                   (batch_size x vocab_size)\n",
        "        self.fc = nn.Linear(hidden_size, vocab_size)\n",
        "        ########################################################################\n",
        "\n",
        "    def forward(self, input, target):\n",
        "        # input is batch of one-hot labels of shape (batch_size x 10)\n",
        "        # target is one-hot of sequence of tokens without the last token and is of\n",
        "        # shape (batch_size x max_word_length-1 x vocab_size)\n",
        "\n",
        "        # Setup ################################################################\n",
        "        # TODO📝: Using target assign the three variables with the corresponding values of\n",
        "        #         batch_size, max_word_length, and vocab_size\n",
        "        batch_size = target.shape[0]\n",
        "        max_word_length = target.shape[1] + 1\n",
        "        vocab_size = target.shape[2]\n",
        "        ########################################################################\n",
        "\n",
        "\n",
        "        # Feed-forward behaviour of the model ##################################\n",
        "        # In order to pass two inputs to our LSTM object, we need to concat input and target,\n",
        "        # we will need to change (batch_size x 10) input matrix -> (batch_size x max_word_length-1 x 10)\n",
        "        # TODO📝: replicated_input = repeat the one-hot input (max_word_length-1)\n",
        "        #         times on 2nd dimension -> (batch_size x max_word_length-1 x 10)\n",
        "        # TODO📝: rnn_input = concat the target with the replicated_input ->\n",
        "        #         (batch_size x max_word_length-1 x vocab_size+10)\n",
        "        # print(rnn_input.shape,(batch_size, max_word_length-1, vocab_size+10))\n",
        "        replicated_input = input.unsqueeze(1).repeat(1, max_word_length-1, 1)\n",
        "        rnn_input = torch.cat((replicated_input, target), dim=2)\n",
        "        # number in 0-9 + ind in vocab\n",
        "\n",
        "        shapeChecker(rnn_input, torch.zeros((batch_size, max_word_length-1, vocab_size+10)))\n",
        "\n",
        "        # TODO📝: out = write the feed-forward behaviour of the network\n",
        "        out, _ = self.lstm(rnn_input)\n",
        "        out = self.fc(out)\n",
        "        # print(torch.argmax(out,dim=-1))\n",
        "        # print(torch.argmax(target,dim=-1))\n",
        "        # p = k\n",
        "        ########################################################################\n",
        "        # print(out.shape, target.shape)\n",
        "        shapeChecker(out, target)\n",
        "        return out\n",
        "\n",
        "    # Utility function to create next input_rnn using the current token and one-hot label(input)\n",
        "    def create_concatenated_rnn_input(self, token_idx, input_digit):\n",
        "        # input is single one-hot label of shape (1 x 10)\n",
        "        # token_idx is a token index\n",
        "        one_hot_token = torch.zeros(1, 1, vocab_size).to(device)\n",
        "        one_hot_token[0, 0, token_idx] = 1\n",
        "        rnn_input = torch.cat((input_digit.unsqueeze(0), one_hot_token), -1)\n",
        "        # number in 10 + idx in vocab\n",
        "        # Create rnn_input of (1 x 1 x vocab_size+10) ##########################\n",
        "        # TODO📝: rnn_input = matrix of (1 x 1 x vocab_size+10), which is the concatenation\n",
        "        #         of the input and the one-hot vector corresponding to the token idx\n",
        "        ########################################################################\n",
        "        shapeChecker(torch.zeros((1, 1, vocab_size+10)), rnn_input)\n",
        "        return rnn_input\n",
        "\n",
        "    # This function samples next token given the <b> token until the <e> token\n",
        "    def sample(self, input):\n",
        "        # input is single one-hot label of shape (1 x 10)\n",
        "        output = [get_idx('<b>')] # Output is sequence of token indices, and here we intialise with <b>\n",
        "        rnn_input = self.create_concatenated_rnn_input(get_idx('<b>'), input) # create first input\n",
        "        loopRun = 0\n",
        "        # print(rnn_input)\n",
        "\n",
        "        hidden = None\n",
        "        while True and loopRun < 50:  # Breaking condition : predicted idx == <e>\n",
        "            # the loopRun < 50 condition prevent infinite looping\n",
        "            # Feed-forward behaviour ###########################################\n",
        "            # TODO📝: out = write the feed-forward behaviour\n",
        "            # Here, since we are working with single token at a time,\n",
        "            # you need to convert out: (1 x 1 x vocab_size) -> (1 x vocab_size)\n",
        "            out, hidden = self.lstm(rnn_input, hidden)\n",
        "            out = self.fc(out).reshape(1, vocab_size)\n",
        "            # print(out)\n",
        "            ####################################################################\n",
        "            # print(out.shape, (1, vocab_size))\n",
        "            shapeChecker(out, torch.zeros((1, vocab_size)))\n",
        "\n",
        "            _, pred_idx = torch.max(out, dim=-1)\n",
        "\n",
        "            output.append(pred_idx.cpu().numpy()[0].item())\n",
        "            # Breaking condition ###############################################\n",
        "            # TODO📝: add breaking condition on predicted token == '<e>'\n",
        "            if pred_idx.item() == get_idx('<e>'):\n",
        "              break\n",
        "            ####################################################################\n",
        "\n",
        "            # Prepare next rnn input ###########################################\n",
        "            # TODO📝: rnn_input = overwrite the rnn_input using the current\n",
        "            #         predicted token for the next iteration\n",
        "            # print(pred_idx, pred_idx.item())\n",
        "            rnn_input = self.create_concatenated_rnn_input(pred_idx.item(), input)\n",
        "            # print(rnn_input)\n",
        "            # if loopRun == 3:\n",
        "            #   break\n",
        "            ####################################################################\n",
        "\n",
        "            loopRun+=1\n",
        "\n",
        "        return output"
      ]
    },
    {
      "cell_type": "code",
      "execution_count": null,
      "metadata": {
        "id": "V8psC0whkaKa",
        "colab": {
          "base_uri": "https://localhost:8080/"
        },
        "outputId": "58b316be-2881-4f54-d07a-7fa3ffbd9bc7"
      },
      "outputs": [
        {
          "output_type": "stream",
          "name": "stdout",
          "text": [
            "acc:  tensor(0.0500, device='cuda:0')\n",
            "tensor([12, 12, 12, 12, 12,  1], device='cuda:0') tensor([ 2,  6,  4,  5, 11,  1], device='cuda:0')\n",
            "Epoch [1/3000], Step [1/1], Loss: 2.3713\n",
            "acc:  tensor(0.2167, device='cuda:0')\n",
            "tensor([2, 2, 1, 1, 1, 1], device='cuda:0') tensor([7, 6, 7, 2, 1, 0], device='cuda:0')\n",
            "Epoch [501/3000], Step [1/1], Loss: 1.8615\n",
            "acc:  tensor(0.4333, device='cuda:0')\n",
            "tensor([6, 2, 2, 1, 1, 1], device='cuda:0') tensor([8, 7, 2, 1, 0, 0], device='cuda:0')\n",
            "Epoch [1001/3000], Step [1/1], Loss: 1.2842\n",
            "acc:  tensor(0.6833, device='cuda:0')\n",
            "tensor([10,  2,  9,  8,  1,  1], device='cuda:0') tensor([16,  2,  9,  8,  1,  0], device='cuda:0')\n",
            "Epoch [1501/3000], Step [1/1], Loss: 0.7629\n",
            "acc:  tensor(0.8333, device='cuda:0')\n",
            "tensor([8, 7, 2, 1, 1, 1], device='cuda:0') tensor([8, 7, 2, 1, 0, 0], device='cuda:0')\n",
            "Epoch [2001/3000], Step [1/1], Loss: 0.4009\n",
            "acc:  tensor(0.8333, device='cuda:0')\n",
            "tensor([ 2,  6,  4,  5, 11,  1], device='cuda:0') tensor([ 2,  6,  4,  5, 11,  1], device='cuda:0')\n",
            "Epoch [2501/3000], Step [1/1], Loss: 0.2313\n",
            "tensor([0, 8, 7, 2, 1], device='cuda:0') tensor([0, 8, 7, 2, 1], device='cuda:0')\n",
            "tensor([ 0, 10,  6, 15,  1], device='cuda:0') tensor([ 0, 10,  6, 15,  1], device='cuda:0')\n",
            "tensor([ 0, 10,  2, 13,  2,  7,  1], device='cuda:0') tensor([ 0, 10,  2, 13,  2,  7,  1], device='cuda:0')\n",
            "tensor([0, 7, 6, 7, 2, 1], device='cuda:0') tensor([0, 7, 6, 7, 2, 1], device='cuda:0')\n",
            "tensor([ 0, 11,  5,  9,  2,  2,  1], device='cuda:0') tensor([ 0, 11,  5,  9,  2,  2,  1], device='cuda:0')\n",
            "tensor([ 0,  2,  6,  4,  5, 11,  1], device='cuda:0') tensor([ 0,  2,  6,  4,  5, 11,  1], device='cuda:0')\n",
            "tensor([ 0,  3,  8, 12,  9,  1], device='cuda:0') tensor([ 0,  3,  8, 12,  9,  1], device='cuda:0')\n",
            "tensor([ 0, 11, 14,  8,  1], device='cuda:0') tensor([ 0, 11, 14,  8,  1], device='cuda:0')\n",
            "tensor([ 0,  3,  6, 13,  2,  1], device='cuda:0') tensor([ 0,  3,  6, 13,  2,  1], device='cuda:0')\n",
            "tensor([ 0, 16,  2,  9,  8,  1], device='cuda:0') tensor([ 0, 16,  2,  9,  8,  1], device='cuda:0')\n",
            "\n",
            "Test set: Accuracy: 10/10 (100%)\n",
            "\n"
          ]
        }
      ],
      "source": [
        "# 2. Create an optimiser\n",
        "# options\n",
        "epochs = 3000        # number of epochs to train\n",
        "lr = 0.1             # learning rate - TODO📝: set an appropriate lr\n",
        "hidden_size = 8    # hidden size for rnn - TODO📝: set from 8, 16, 32, 64 - use the smallest one for which your model works\n",
        "embed_size = 10       # input is onehot labels\n",
        "num_layer = 1         # layers of rnn\n",
        "\n",
        "rnnModel = DecoderRNN(input_size=vocab_size+embed_size, hidden_size=hidden_size, vocab_size=vocab_size, num_layers=num_layer)\n",
        "dec_optimiser = optim.SGD(rnnModel.parameters(), lr=lr)\n",
        "# Recurrent net overfitting ####################################################\n",
        "# TODO📝: rnnModel = DecoderRNN() model - input: one-hot label output: one-hot matrix of words\n",
        "# TODO📝: dec_optimiser = create a SGD optimiser object\n",
        "################################################################################\n",
        "train(epochs, dec_optimiser, rnnModel, mode='DECODER', dataloader=rnn_dataloader)\n",
        "acc = evaluate(rnnModel, rnn_testloader, mode='DECODER')\n",
        "\n",
        "assert(acc == 100)\n",
        "# batch_size, max_word_length-1, vocab_size+10\n",
        "# ['<b>', '<e>', 'e', 'f', 'g', 'h', 'i', 'n', 'o', 'r', 's', 't', 'u', 'v', 'w', 'x', 'z']"
      ]
    },
    {
      "cell_type": "markdown",
      "metadata": {
        "id": "nmSqHzirl2Ny"
      },
      "source": [
        "## 2.3 Modular approach\n",
        "---\n",
        "In this section, we will combine the previously trained CNN and RNN to convert an input image to a sequence of tokens.\n",
        "Here, since both models are pre-trained we just evaluate the performance of this combined model.\n",
        "\n",
        "Create a class `CombinationModel`: with a `sample()` method which takes an image as input and outputs token indices for each predicted letter of size `(batch_size x word_length)`. You can call the sample method of `DecoderRNN` for this purpose."
      ]
    },
    {
      "cell_type": "code",
      "execution_count": null,
      "metadata": {
        "id": "JZEykWBJoXdc",
        "colab": {
          "base_uri": "https://localhost:8080/"
        },
        "outputId": "6e2ad330-99ff-4e1d-b2be-cc057542f5a6"
      },
      "outputs": [
        {
          "output_type": "stream",
          "name": "stdout",
          "text": [
            "\n",
            "Test set: Accuracy: 9860/10000 (99%)\n",
            "\n"
          ]
        }
      ],
      "source": [
        "class CombinationModel(nn.Module):\n",
        "  def __init__(self, cnn_model, rnn_model):\n",
        "      super(CombinationModel, self).__init__()\n",
        "      self.cnn_model = cnn_model\n",
        "      self.rnn_model = rnn_model\n",
        "\n",
        "  def sample(self, image):\n",
        "        # This method takes an image as input and outputs token indices\n",
        "        # Here image is expected to be a torch.Tensor\n",
        "        with torch.no_grad():\n",
        "            # Extract features using CNN\n",
        "            features = self.cnn_model(image)\n",
        "            batch_size = features.size(0)\n",
        "            features = features.view(batch_size, -1, features.size(1))\n",
        "\n",
        "            number = torch.argmax(features)\n",
        "            input = [0] * 10\n",
        "            input[number] = 1\n",
        "            input = torch.tensor([input])\n",
        "            # print(input)\n",
        "\n",
        "            # Use RNN to generate token indices\n",
        "            outputs = self.rnn_model.sample(input.to(device))\n",
        "\n",
        "        return torch.tensor(outputs)\n",
        "\n",
        "combinationModel = CombinationModel(cnnClassifier, rnnModel).to(device)\n",
        "# Modular approach #############################################################\n",
        "# TODO📝: create a class as mentioned before\n",
        "# TODO📝: combinationModel = instantiate your created class\n",
        "################################################################################\n",
        "acc = evaluate(combinationModel, test_loader, mode='MODULAR')\n",
        "\n",
        "assert(acc > 95)"
      ]
    },
    {
      "cell_type": "markdown",
      "metadata": {
        "id": "kVh746TQo97u"
      },
      "source": [
        "## 2.4 Transfer learning\n",
        "---\n",
        "\n",
        "In this section, we will use the `cnnEncoder` that we trained in section 2.1 to get the image embeddings which we will use instead of the one-hot label we used in section 2.2. Complete the following methods using section 2.2 as reference:\n",
        "1. Create a `DecoderRNN2` model;\n",
        "2. Create a `DigitDecoder` model (you may want to look at the methods of `DecoderRNN` from section 2.2);\n",
        "3. Instantiate an object of `DigitDecoder`;\n",
        "4. Create a SGD optimiser for the `DecoderRNN2`."
      ]
    },
    {
      "cell_type": "code",
      "execution_count": null,
      "metadata": {
        "id": "aNs_xKALtnEX"
      },
      "outputs": [],
      "source": [
        "# 1. RNN model for learning sequence of letters\n",
        "class DecoderRNN2(nn.Module):\n",
        "    def __init__(self, input_size, hidden_size, vocab_size, num_layers):\n",
        "        super().__init__()\n",
        "        # Initialisation of the class ##########################################\n",
        "        # TODO📝: create LSTM and linear layer\n",
        "        ########################################################################\n",
        "        self.lstm = nn.LSTM(input_size, hidden_size, num_layers=num_layers, batch_first=True)\n",
        "        self.linear = nn.Linear(hidden_size, vocab_size)\n",
        "\n",
        "    def forward(self, input):\n",
        "        # Concatenated vector of image embedding and one-hot of the whole\n",
        "        # sequence of tokens without the last one of size (batch_size x max_word_length-1 x vocab_size+embed_size)\n",
        "        # Feed-forward behaviour ###############################################\n",
        "        # TODO📝: write the feed-forward behaviour of the model\n",
        "        ########################################################################\n",
        "        # if input.shape != torch.zeros((batch_size, 6, vocab_size+embed_size)).shape:\n",
        "        #   print(input.shape, (batch_size, 6, vocab_size+embed_size))\n",
        "        # shapeChecker(input, torch.zeros((batch_size, 6, vocab_size+embed_size)))\n",
        "        lstm_out, _ = self.lstm(input)\n",
        "        output = self.linear(lstm_out)\n",
        "\n",
        "        return output\n",
        "\n",
        "    def single_forward(self, input, hidden):\n",
        "        # This function is called by DigitDecoder to output a single token given\n",
        "        # the previous token along with the image embedding and the corresponding hidden tensor\n",
        "\n",
        "        # Prediction behaviour #################################################\n",
        "        # TODO📝: do a forward pass of the model\n",
        "        # TODO📝: return output and new hidden\n",
        "        ########################################################################\n",
        "        lstm_out, hidden = self.lstm(input, hidden)\n",
        "        # output = self.linear(lstm_out.squeeze(1))\n",
        "        output = self.linear(lstm_out)\n",
        "        return output, hidden"
      ]
    },
    {
      "cell_type": "code",
      "execution_count": null,
      "metadata": {
        "id": "dKnUTAFg_hix"
      },
      "outputs": [],
      "source": [
        "# 2. Model to predict next words given the image\n",
        "class DigitDecoder(nn.Module):\n",
        "    def __init__(self, input_size, hidden_size, num_layers, num_classes):\n",
        "        super().__init__()\n",
        "        # Initialise the model #################################################\n",
        "        # TODO📝: self.encoder = use the cnnEncoder\n",
        "        # TODO📝: self.decoder = instantiation of DecoderRNN2\n",
        "        ########################################################################\n",
        "        self.encoder = cnnEncoder\n",
        "        self.decoder = DecoderRNN2(input_size, hidden_size, num_classes, num_layers)\n",
        "\n",
        "    def forward(self, x, y):\n",
        "        # Feed-forward behaviour of the model ##################################\n",
        "        # TODO📝: try to emulate forward() from section 2.2\n",
        "        # Some extra work is needed: calculate image embedding using\n",
        "        # the self.encoder\n",
        "        ########################################################################\n",
        "        # print(x.shape)\n",
        "        image_embedding = self.encoder(x)\n",
        "        # print(image_embedding.shape, y.shape)\n",
        "        replicated_input = image_embedding.unsqueeze(1).repeat(1, y.shape[1], 1)\n",
        "        rnn_input = torch.cat((replicated_input, y), dim=2)\n",
        "        # shapeChecker(rnn_input, torch.zeros((batch_size, y.shape[1], vocab_size+image_embedding.shape[-1])))\n",
        "        # print(rnn_input[0])\n",
        "        output = self.decoder(rnn_input)\n",
        "\n",
        "        return output\n",
        "\n",
        "    # Utility function to create next input_rnn using the current token and one-hot label(input)\n",
        "    def create_concatenated_rnn_input(self, token_idx, input_digit):\n",
        "        # input is single one-hot label of shape (1 x 10)\n",
        "        # token_idx is a token index\n",
        "        one_hot_token = torch.zeros(1, 1, vocab_size).to(device)\n",
        "        one_hot_token[0, 0, token_idx] = 1\n",
        "        # print(\"1\", input_digit.shape, one_hot_token.shape)\n",
        "        # print(\"2\", input_digit, one_hot_token)\n",
        "        rnn_input = torch.cat((input_digit.unsqueeze(0), one_hot_token), -1)\n",
        "\n",
        "        shapeChecker(torch.zeros((1, 1, vocab_size+input_digit.shape[-1])), rnn_input)\n",
        "        return rnn_input\n",
        "\n",
        "\n",
        "    def sample(self, x):\n",
        "        # Sampling the output string one token at a time #######################\n",
        "        # TODO📝: try to emulate sample() method from section 2.2\n",
        "        # Some extra work is needed: calculate image embedding using\n",
        "        # the self.encoder\n",
        "        ########################################################################\n",
        "        image_embedding = self.encoder(x)\n",
        "\n",
        "        output = [get_idx(\"<b>\")]\n",
        "        rnn_input = self.create_concatenated_rnn_input(get_idx('<b>'), image_embedding)\n",
        "\n",
        "        # Initialize hidden state for the decoder\n",
        "        hidden = None\n",
        "\n",
        "        # Iteratively generate tokens\n",
        "        for _ in range(51):\n",
        "            # Pass the current token and image embedding through the decoder\n",
        "            out, hidden = self.decoder.single_forward(rnn_input, hidden)\n",
        "\n",
        "            # Sample the next token (e.g., using argmax for simplicity)\n",
        "            _, pred_idx = torch.max(out, dim=-1)\n",
        "\n",
        "            output.append(pred_idx.cpu().numpy()[0].item())\n",
        "\n",
        "            # Stop sampling if the end token is generated\n",
        "            if pred_idx.item() == get_idx(\"<e>\"):\n",
        "                break\n",
        "\n",
        "            rnn_input = self.create_concatenated_rnn_input(pred_idx.item(), image_embedding)\n",
        "\n",
        "\n",
        "        return output"
      ]
    },
    {
      "cell_type": "code",
      "execution_count": null,
      "metadata": {
        "id": "VLe3qH_-xlLS",
        "colab": {
          "base_uri": "https://localhost:8080/"
        },
        "outputId": "70e80cd4-898a-47b9-c249-1889a96cb701"
      },
      "outputs": [
        {
          "output_type": "stream",
          "name": "stdout",
          "text": [
            "acc:  tensor(0.0299, device='cuda:0')\n",
            "tensor([12, 12, 12, 12, 12, 12], device='cuda:0') tensor([16,  2,  9,  8,  1,  0], device='cuda:0')\n",
            "Epoch [1/10], Step [100/469], Loss: 1.8347\n",
            "Epoch [1/10], Step [200/469], Loss: 1.6421\n",
            "Epoch [1/10], Step [300/469], Loss: 1.5021\n",
            "Epoch [1/10], Step [400/469], Loss: 1.3701\n",
            "acc:  tensor(0.2591, device='cuda:0')\n",
            "tensor([8, 9, 9, 9, 9, 9], device='cuda:0') tensor([ 3,  8, 12,  9,  1,  0], device='cuda:0')\n",
            "Epoch [2/10], Step [100/469], Loss: 1.2682\n",
            "Epoch [2/10], Step [200/469], Loss: 1.1604\n",
            "Epoch [2/10], Step [300/469], Loss: 1.1736\n",
            "Epoch [2/10], Step [400/469], Loss: 1.0644\n",
            "acc:  tensor(0.4310, device='cuda:0')\n",
            "tensor([8, 1, 1, 1, 1, 1], device='cuda:0') tensor([10,  6, 15,  1,  0,  0], device='cuda:0')\n",
            "Epoch [3/10], Step [100/469], Loss: 0.9191\n",
            "Epoch [3/10], Step [200/469], Loss: 0.8970\n",
            "Epoch [3/10], Step [300/469], Loss: 0.8871\n",
            "Epoch [3/10], Step [400/469], Loss: 0.8965\n",
            "acc:  tensor(0.6185, device='cuda:0')\n",
            "tensor([7, 7, 2, 2, 1, 1], device='cuda:0') tensor([7, 6, 7, 2, 1, 0], device='cuda:0')\n",
            "Epoch [4/10], Step [100/469], Loss: 0.7620\n",
            "Epoch [4/10], Step [200/469], Loss: 0.6725\n",
            "Epoch [4/10], Step [300/469], Loss: 0.5350\n",
            "Epoch [4/10], Step [400/469], Loss: 0.5646\n",
            "acc:  tensor(0.6406, device='cuda:0')\n",
            "tensor([11,  5,  9,  2,  2,  1], device='cuda:0') tensor([11,  5,  9,  2,  2,  1], device='cuda:0')\n",
            "Epoch [5/10], Step [100/469], Loss: 0.3921\n",
            "Epoch [5/10], Step [200/469], Loss: 0.3816\n",
            "Epoch [5/10], Step [300/469], Loss: 0.3101\n",
            "Epoch [5/10], Step [400/469], Loss: 0.3394\n",
            "acc:  tensor(0.7878, device='cuda:0')\n",
            "tensor([10,  2, 13,  2,  7,  1], device='cuda:0') tensor([10,  2, 13,  2,  7,  1], device='cuda:0')\n",
            "Epoch [6/10], Step [100/469], Loss: 0.2625\n",
            "Epoch [6/10], Step [200/469], Loss: 0.2721\n",
            "Epoch [6/10], Step [300/469], Loss: 0.2395\n",
            "Epoch [6/10], Step [400/469], Loss: 0.2087\n",
            "acc:  tensor(0.8086, device='cuda:0')\n",
            "tensor([ 2,  6,  4,  5, 11,  1], device='cuda:0') tensor([ 2,  6,  4,  5, 11,  1], device='cuda:0')\n",
            "Epoch [7/10], Step [100/469], Loss: 0.1393\n",
            "Epoch [7/10], Step [200/469], Loss: 0.1298\n",
            "Epoch [7/10], Step [300/469], Loss: 0.1490\n",
            "Epoch [7/10], Step [400/469], Loss: 0.1160\n",
            "acc:  tensor(0.8281, device='cuda:0')\n",
            "tensor([11, 14,  8,  1,  8,  1], device='cuda:0') tensor([11, 14,  8,  1,  0,  0], device='cuda:0')\n",
            "Epoch [8/10], Step [100/469], Loss: 0.1109\n",
            "Epoch [8/10], Step [200/469], Loss: 0.1486\n",
            "Epoch [8/10], Step [300/469], Loss: 0.0896\n",
            "Epoch [8/10], Step [400/469], Loss: 0.0902\n",
            "acc:  tensor(0.8333, device='cuda:0')\n",
            "tensor([10,  2, 13,  2,  7,  1], device='cuda:0') tensor([10,  2, 13,  2,  7,  1], device='cuda:0')\n",
            "Epoch [9/10], Step [100/469], Loss: 0.1301\n",
            "Epoch [9/10], Step [200/469], Loss: 0.0830\n",
            "Epoch [9/10], Step [300/469], Loss: 0.0881\n",
            "Epoch [9/10], Step [400/469], Loss: 0.0811\n",
            "acc:  tensor(0.8307, device='cuda:0')\n",
            "tensor([ 2,  6,  4,  5, 11,  1], device='cuda:0') tensor([ 2,  6,  4,  5, 11,  1], device='cuda:0')\n",
            "Epoch [10/10], Step [100/469], Loss: 0.0593\n",
            "Epoch [10/10], Step [200/469], Loss: 0.0538\n",
            "Epoch [10/10], Step [300/469], Loss: 0.0568\n",
            "Epoch [10/10], Step [400/469], Loss: 0.0644\n",
            "\n",
            "Test set: Accuracy: 9737/10000 (97%)\n",
            "\n"
          ]
        }
      ],
      "source": [
        "# 3. and 4. model instantiation and optimiser creation\n",
        "epochs = 10           # number of epochs to train\n",
        "lr = 0.1              # learning rate\n",
        "hidden_size = 32    # hidden size for rnn - set from 8, 16, 32, 64 - use the smallest one for which your model works\n",
        "num_layer = 1         # layers of rnn\n",
        "embed_size = 84\n",
        "\n",
        "tranferLearningModel = DigitDecoder(input_size=vocab_size+embed_size, hidden_size=hidden_size, num_layers=num_layer, num_classes=vocab_size).to(device)\n",
        "tra_optimiser = optim.SGD(tranferLearningModel.decoder.parameters(), lr=lr)\n",
        "# Transfer learning ############################################################\n",
        "# TODO📝: tranferLearningModel = create an object of DigitDecoder\n",
        "# TODO📝: tra_optimiser = create a SGD optimiser object using just the DecoderRNN2 parameters\n",
        "################################################################################\n",
        "train(epochs, tra_optimiser, tranferLearningModel, mode='E2E')\n",
        "acc = evaluate(tranferLearningModel, test_loader, mode='E2E')\n",
        "\n",
        "assert(acc > 95)"
      ]
    },
    {
      "cell_type": "markdown",
      "metadata": {
        "id": "k94y4Bb-yhL7"
      },
      "source": [
        "## 2.5 End-to-end training\n",
        "---\n",
        "Finally, we will remove all the restrictions and train the `DigitDecoder` on both CNN as well as `DecoderRNN2` parameters.\n",
        "\n",
        "Follow the same steps as sec 2.4.\n",
        "1. Create a new class `DigitDecoder2` similar to `DigitDecoder` except here instead of using the pre-trained `cnnEncoder`, instantiate a new encoder with the same hyper-parameter.\n",
        "1. Instantiate an object of `DigitDecoder2`.\n",
        "2. Create an optimiser object using the `DigitDecoder2` weights.\n"
      ]
    },
    {
      "cell_type": "code",
      "execution_count": null,
      "metadata": {
        "id": "TtbsQ6qMygTb",
        "colab": {
          "base_uri": "https://localhost:8080/"
        },
        "outputId": "4ececa00-0f74-42ac-bd85-cf9074ea4f2d"
      },
      "outputs": [
        {
          "output_type": "stream",
          "name": "stdout",
          "text": [
            "acc:  tensor(0.0560, device='cuda:0')\n",
            "tensor([6, 6, 6, 6, 6, 6], device='cuda:0') tensor([11, 14,  8,  1,  0,  0], device='cuda:0')\n",
            "Epoch [1/10], Step [100/469], Loss: 1.9606\n",
            "Epoch [1/10], Step [200/469], Loss: 1.8223\n",
            "Epoch [1/10], Step [300/469], Loss: 1.7792\n",
            "Epoch [1/10], Step [400/469], Loss: 1.6767\n",
            "acc:  tensor(0.2917, device='cuda:0')\n",
            "tensor([6, 2, 2, 2, 1, 1], device='cuda:0') tensor([ 2,  6,  4,  5, 11,  1], device='cuda:0')\n",
            "Epoch [2/10], Step [100/469], Loss: 1.4566\n",
            "Epoch [2/10], Step [200/469], Loss: 1.3402\n",
            "Epoch [2/10], Step [300/469], Loss: 1.1235\n",
            "Epoch [2/10], Step [400/469], Loss: 1.0429\n",
            "acc:  tensor(0.4766, device='cuda:0')\n",
            "tensor([7, 7, 2, 1, 1, 1], device='cuda:0') tensor([8, 7, 2, 1, 0, 0], device='cuda:0')\n",
            "Epoch [3/10], Step [100/469], Loss: 0.8195\n",
            "Epoch [3/10], Step [200/469], Loss: 0.6840\n",
            "Epoch [3/10], Step [300/469], Loss: 0.6068\n",
            "Epoch [3/10], Step [400/469], Loss: 0.5246\n",
            "acc:  tensor(0.7552, device='cuda:0')\n",
            "tensor([7, 6, 7, 2, 1, 1], device='cuda:0') tensor([7, 6, 7, 2, 1, 0], device='cuda:0')\n",
            "Epoch [4/10], Step [100/469], Loss: 0.3657\n",
            "Epoch [4/10], Step [200/469], Loss: 0.3550\n",
            "Epoch [4/10], Step [300/469], Loss: 0.4434\n",
            "Epoch [4/10], Step [400/469], Loss: 0.2738\n",
            "acc:  tensor(0.8034, device='cuda:0')\n",
            "tensor([10,  2, 13,  2,  7,  1], device='cuda:0') tensor([10,  2, 13,  2,  7,  1], device='cuda:0')\n",
            "Epoch [5/10], Step [100/469], Loss: 0.2975\n",
            "Epoch [5/10], Step [200/469], Loss: 0.2628\n",
            "Epoch [5/10], Step [300/469], Loss: 0.2958\n",
            "Epoch [5/10], Step [400/469], Loss: 0.2248\n",
            "acc:  tensor(0.7852, device='cuda:0')\n",
            "tensor([11, 14,  8,  1,  1,  1], device='cuda:0') tensor([11, 14,  8,  1,  0,  0], device='cuda:0')\n",
            "Epoch [6/10], Step [100/469], Loss: 0.2064\n",
            "Epoch [6/10], Step [200/469], Loss: 0.1645\n",
            "Epoch [6/10], Step [300/469], Loss: 0.1600\n",
            "Epoch [6/10], Step [400/469], Loss: 0.1955\n",
            "acc:  tensor(0.8190, device='cuda:0')\n",
            "tensor([2, 6, 4, 5, 1, 1], device='cuda:0') tensor([ 2,  6,  4,  5, 11,  1], device='cuda:0')\n",
            "Epoch [7/10], Step [100/469], Loss: 0.1030\n",
            "Epoch [7/10], Step [200/469], Loss: 0.1221\n",
            "Epoch [7/10], Step [300/469], Loss: 0.1408\n",
            "Epoch [7/10], Step [400/469], Loss: 0.2108\n",
            "acc:  tensor(0.7852, device='cuda:0')\n",
            "tensor([2, 6, 4, 5, 1, 1], device='cuda:0') tensor([ 2,  6,  4,  5, 11,  1], device='cuda:0')\n",
            "Epoch [8/10], Step [100/469], Loss: 0.1168\n",
            "Epoch [8/10], Step [200/469], Loss: 0.1404\n",
            "Epoch [8/10], Step [300/469], Loss: 0.0886\n",
            "Epoch [8/10], Step [400/469], Loss: 0.0995\n",
            "acc:  tensor(0.8138, device='cuda:0')\n",
            "tensor([7, 6, 7, 2, 1, 1], device='cuda:0') tensor([7, 6, 7, 2, 1, 0], device='cuda:0')\n",
            "Epoch [9/10], Step [100/469], Loss: 0.0947\n",
            "Epoch [9/10], Step [200/469], Loss: 0.1165\n",
            "Epoch [9/10], Step [300/469], Loss: 0.1255\n",
            "Epoch [9/10], Step [400/469], Loss: 0.0690\n",
            "acc:  tensor(0.8112, device='cuda:0')\n",
            "tensor([16,  2,  9,  8,  1,  1], device='cuda:0') tensor([16,  2,  9,  8,  1,  0], device='cuda:0')\n",
            "Epoch [10/10], Step [100/469], Loss: 0.0881\n",
            "Epoch [10/10], Step [200/469], Loss: 0.0924\n",
            "Epoch [10/10], Step [300/469], Loss: 0.0827\n",
            "Epoch [10/10], Step [400/469], Loss: 0.0528\n",
            "\n",
            "Test set: Accuracy: 9675/10000 (97%)\n",
            "\n"
          ]
        }
      ],
      "source": [
        "# 2. Model to predict next words given the image\n",
        "class DigitDecoder2(nn.Module):\n",
        "    def __init__(self, input_size, hidden_size, num_layers, num_classes):\n",
        "        super().__init__()\n",
        "        # Fill out the class methods #################################################\n",
        "        # TODO📝: Create a new DigitDecoder2 class, with the difference in self.encoder,\n",
        "        #         where you need to a new cnn encoder with same hyper-parameter as in\n",
        "        #         section 2.1 without the last layer.\n",
        "        ##############################################################################\n",
        "        self.encoder = nn.Sequential(\n",
        "                    nn.Conv2d(in_channels=1, out_channels=6, kernel_size=3, stride=1),\n",
        "                    nn.MaxPool2d(kernel_size=2, stride=2),\n",
        "                    nn.Conv2d(in_channels=6, out_channels=16, kernel_size=3, stride=1),\n",
        "                    nn.MaxPool2d(kernel_size=2, stride=2),\n",
        "                    nn.Conv2d(in_channels=16, out_channels=120, kernel_size=3, stride=1),\n",
        "                    nn.Flatten(),\n",
        "                    nn.Linear(in_features=120 * 3 * 3, out_features=84)\n",
        "                  )\n",
        "        self.decoder = DecoderRNN2(input_size, hidden_size, num_classes, num_layers)\n",
        "\n",
        "    def forward(self, x, y):\n",
        "        # Feed-forward behaviour of the model ##################################\n",
        "        # TODO📝: try to emulate forward() from section 2.2\n",
        "        # Some extra work is needed: calculate image embedding using\n",
        "        # the self.encoder\n",
        "        ########################################################################\n",
        "        image_embedding = self.encoder(x)\n",
        "        replicated_input = image_embedding.unsqueeze(1).repeat(1, y.shape[1], 1)\n",
        "        rnn_input = torch.cat((replicated_input, y), dim=2)\n",
        "        output = self.decoder(rnn_input)\n",
        "\n",
        "        return output\n",
        "\n",
        "    # Utility function to create next input_rnn using the current token and one-hot label(input)\n",
        "    def create_concatenated_rnn_input(self, token_idx, input_digit):\n",
        "        one_hot_token = torch.zeros(1, 1, vocab_size).to(device)\n",
        "        one_hot_token[0, 0, token_idx] = 1\n",
        "        rnn_input = torch.cat((input_digit.unsqueeze(0), one_hot_token), -1)\n",
        "\n",
        "        shapeChecker(torch.zeros((1, 1, vocab_size+input_digit.shape[-1])), rnn_input)\n",
        "        return rnn_input\n",
        "\n",
        "\n",
        "    def sample(self, x):\n",
        "        image_embedding = self.encoder(x)\n",
        "\n",
        "        output = [get_idx(\"<b>\")]\n",
        "        rnn_input = self.create_concatenated_rnn_input(get_idx('<b>'), image_embedding)\n",
        "\n",
        "        hidden = None\n",
        "\n",
        "        for _ in range(51):\n",
        "            out, hidden = self.decoder.single_forward(rnn_input, hidden)\n",
        "\n",
        "            _, pred_idx = torch.max(out, dim=-1)\n",
        "\n",
        "            output.append(pred_idx.cpu().numpy()[0].item())\n",
        "\n",
        "            if pred_idx.item() == get_idx(\"<e>\"):\n",
        "                break\n",
        "\n",
        "            rnn_input = self.create_concatenated_rnn_input(pred_idx.item(), image_embedding)\n",
        "\n",
        "\n",
        "        return output\n",
        "\n",
        "\n",
        "# options\n",
        "epochs = 10       # number of epochs to train - TODO📝: set number of epochs\n",
        "lr = 0.1           # learning rate - TODO📝: set appropriate lr\n",
        "hidden_size = 32  # hidden size for rnn - TODO📝: you may use the last lr\n",
        "num_layer = 2    # layers of rnn - TODO📝: decide on number of layers to have in the rnn\n",
        "\n",
        "e2eModel = DigitDecoder2(input_size=vocab_size+embed_size, hidden_size=hidden_size, num_layers=num_layer, num_classes=vocab_size).to(device)\n",
        "e2eOptimiser = optim.SGD(e2eModel.parameters(), lr=lr)\n",
        "# End-to-end training ##########################################################\n",
        "# TODO📝: e2eModel = create an object of DigitDetector\n",
        "# TODO📝: e2eOptimiser = create an optimiser object using DigitDetector parameters\n",
        "################################################################################\n",
        "train(epochs, e2eOptimiser, e2eModel, mode='E2E')\n",
        "acc = evaluate(e2eModel, test_loader, mode='E2E')\n",
        "\n",
        "assert(acc > 95)"
      ]
    },
    {
      "cell_type": "markdown",
      "metadata": {
        "id": "xD8pta-Tzkm0"
      },
      "source": [
        "# 3 Inference\n",
        "## 3.1 Evaluation and models comparison\n",
        "---\n",
        "Now that we are done with training our models and hopefully have got near perfect accuracies on all our tasks, its time to see the predictions of our model.\n",
        "1. Complete the function `infer()` that displays any 10 images along with their predicted texts. We will call the function for the following models:\n",
        "    1. `combinationModel`\n",
        "    2. `tranferLearningModel`\n",
        "    3. `e2eModel`"
      ]
    },
    {
      "cell_type": "code",
      "execution_count": null,
      "metadata": {
        "id": "08xib6gw2s9a",
        "colab": {
          "base_uri": "https://localhost:8080/",
          "height": 710
        },
        "outputId": "65afaeb6-be65-487f-9054-7ea45b033639"
      },
      "outputs": [
        {
          "output_type": "stream",
          "name": "stdout",
          "text": [
            "CombinationModel output: \n"
          ]
        },
        {
          "output_type": "stream",
          "name": "stderr",
          "text": [
            "<ipython-input-26-5eef92e810e2>:18: UserWarning: To copy construct from a tensor, it is recommended to use sourceTensor.clone().detach() or sourceTensor.clone().detach().requires_grad_(True), rather than torch.tensor(sourceTensor).\n",
            "  label = torch.tensor(model.sample(input))\n"
          ]
        },
        {
          "output_type": "display_data",
          "data": {
            "text/plain": [
              "<Figure size 2000x200 with 10 Axes>"
            ],
            "image/png": "[encoded data removed]"
          },
          "metadata": {}
        },
        {
          "output_type": "stream",
          "name": "stdout",
          "text": [
            "TranferLearningModel output: \n"
          ]
        },
        {
          "output_type": "display_data",
          "data": {
            "text/plain": [
              "<Figure size 2000x200 with 10 Axes>"
            ],
            "image/png": "[encoded data removed]"
          },
          "metadata": {}
        },
        {
          "output_type": "stream",
          "name": "stdout",
          "text": [
            "E2eModel output: \n"
          ]
        },
        {
          "output_type": "display_data",
          "data": {
            "text/plain": [
              "<Figure size 2000x200 with 10 Axes>"
            ],
            "image/png": "[encoded data removed]"
          },
          "metadata": {}
        }
      ],
      "source": [
        "def infer(model):\n",
        "    # Assuming you have a way to load test images (e.g., from a dataset or directory)\n",
        "    num_images = 10\n",
        "    for images, labels in train_loader:\n",
        "        images, labels = images[:num_images], labels[:num_images]\n",
        "        break\n",
        "\n",
        "    model.eval()\n",
        "    with torch.no_grad():\n",
        "      # Set up the plot\n",
        "      fig, axes = plt.subplots(1, num_images, figsize=(num_images * 2, 2))\n",
        "\n",
        "      # Display images and labels\n",
        "      for ax, image, label in zip(axes, images, labels):\n",
        "          ax.imshow(image.squeeze(), cmap='gray')\n",
        "          # print(image.shape)\n",
        "          input = image.unsqueeze(0).to(device)\n",
        "          label = torch.tensor(model.sample(input))\n",
        "\n",
        "          labels = []\n",
        "          for i in label[1:-1]:\n",
        "            labels.append(vocab[i])\n",
        "          labels = \"\".join(labels)\n",
        "          ax.set_title(f'Label: {labels}')\n",
        "\n",
        "      plt.show()\n",
        "\n",
        "# Evaluation and models comparison #############################################\n",
        "# TODO📝: Complete the Infer(.) function\n",
        "################################################################################\n",
        "\n",
        "print('CombinationModel output: ')\n",
        "infer(combinationModel)\n",
        "print('TranferLearningModel output: ')\n",
        "infer(tranferLearningModel)\n",
        "print('E2eModel output: ')\n",
        "infer(e2eModel)"
      ]
    },
    {
      "cell_type": "markdown",
      "metadata": {
        "id": "AEPfnRFi0wRM"
      },
      "source": [
        "## Conclusion\n",
        "Congratulations!!! You just trained an image caption generator. Even though the problem on which we trained our model were simple MNIST images, the concepts and methods we learnt can be extended to train for harder datasets like [Flicker8k_Dataset](https://www.kaggle.com/datasets/adityajn105/flickr8k) or [Coco_Dataset](https://cocodataset.org/#home) as well.\n",
        "\n",
        "I would highly recomment that you try with these datasets and see how well different approaches are performing, you may need to tweak with more complex and deeper models in order to get satisfactory accuracy."
      ]
    }
  ],
  "metadata": {
    "colab": {
      "provenance": [],
      "gpuType": "T4"
    },
    "kernelspec": {
      "display_name": "Python 3",
      "name": "python3"
    },
    "language_info": {
      "codemirror_mode": {
        "name": "ipython",
        "version": 3
      },
      "file_extension": ".py",
      "mimetype": "text/x-python",
      "name": "python",
      "nbconvert_exporter": "python",
      "pygments_lexer": "ipython3",
      "version": "3.11.5"
    },
    "accelerator": "GPU"
  },
  "nbformat": 4,
  "nbformat_minor": 0
}